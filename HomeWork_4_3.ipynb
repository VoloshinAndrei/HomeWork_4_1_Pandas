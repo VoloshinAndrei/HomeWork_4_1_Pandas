{
 "cells": [
  {
   "cell_type": "code",
   "execution_count": 1,
   "metadata": {},
   "outputs": [],
   "source": [
    "# Используя kmeans сделать кластеризацию футбольных команд по стоимости и количеству проигрышей, \n",
    "# результат отобразить в виде точечного графика для случая из 3 и из 5 кластеров. \n",
    "# Если стоимость команд не указана, то сгенерировать случайные стоимости для команд."
   ]
  },
  {
   "cell_type": "code",
   "execution_count": 113,
   "metadata": {},
   "outputs": [],
   "source": [
    "import requests\n",
    "\n",
    "import pandas as pd\n",
    "import numpy as np\n",
    "import matplotlib.pyplot as plt\n",
    "\n",
    "import random\n",
    "\n",
    "%matplotlib inline"
   ]
  },
  {
   "cell_type": "code",
   "execution_count": 114,
   "metadata": {},
   "outputs": [],
   "source": [
    "from scipy.cluster.vq import whiten, kmeans2"
   ]
  },
  {
   "cell_type": "code",
   "execution_count": 115,
   "metadata": {},
   "outputs": [],
   "source": [
    "def call_api(uri, result_key):\n",
    "    json = {}\n",
    "    try:\n",
    "        # json = requests.get(uri, headers = { 'X-Auth-Token': 'a292f2dce01345ecb758bc87d41d2fb4' }).json()\n",
    "        json = requests.get(uri, headers = { 'X-Auth-Token': '6343e2401b274e4b9d3233b7291115e5' }).json()\n",
    "        return json[result_key]\n",
    "    except:\n",
    "        print(json)\n",
    "        return None"
   ]
  },
  {
   "cell_type": "code",
   "execution_count": 116,
   "metadata": {
    "collapsed": true
   },
   "outputs": [
    {
     "data": {
      "text/plain": [
       "[{'_links': {'fixtures': {'href': 'http://api.football-data.org/v1/teams/496/fixtures'},\n",
       "   'players': {'href': 'http://api.football-data.org/v1/teams/496/players'},\n",
       "   'self': {'href': 'http://api.football-data.org/v1/teams/496'}},\n",
       "  'code': None,\n",
       "  'crestUrl': 'http://upload.wikimedia.org/wikipedia/de/6/63/Rio_Ave_FC.svg',\n",
       "  'name': 'FC Rio Ave',\n",
       "  'shortName': 'Rio Ave',\n",
       "  'squadMarketValue': None},\n",
       " {'_links': {'fixtures': {'href': 'http://api.football-data.org/v1/teams/503/fixtures'},\n",
       "   'players': {'href': 'http://api.football-data.org/v1/teams/503/players'},\n",
       "   'self': {'href': 'http://api.football-data.org/v1/teams/503'}},\n",
       "  'code': 'FCP',\n",
       "  'crestUrl': 'http://upload.wikimedia.org/wikipedia/de/e/ed/FC_Porto_1922-2005.svg',\n",
       "  'name': 'FC Porto',\n",
       "  'shortName': 'Porto',\n",
       "  'squadMarketValue': None},\n",
       " {'_links': {'fixtures': {'href': 'http://api.football-data.org/v1/teams/583/fixtures'},\n",
       "   'players': {'href': 'http://api.football-data.org/v1/teams/583/players'},\n",
       "   'self': {'href': 'http://api.football-data.org/v1/teams/583'}},\n",
       "  'code': None,\n",
       "  'crestUrl': 'https://upload.wikimedia.org/wikipedia/pt/8/8c/Logo_Moreirense.svg',\n",
       "  'name': 'Moreirense FC',\n",
       "  'shortName': 'Moreirense',\n",
       "  'squadMarketValue': None},\n",
       " {'_links': {'fixtures': {'href': 'http://api.football-data.org/v1/teams/507/fixtures'},\n",
       "   'players': {'href': 'http://api.football-data.org/v1/teams/507/players'},\n",
       "   'self': {'href': 'http://api.football-data.org/v1/teams/507'}},\n",
       "  'code': None,\n",
       "  'crestUrl': 'http://upload.wikimedia.org/wikipedia/de/f/f2/FC_Pacos_de_Ferreira.svg',\n",
       "  'name': 'FC Paços de Ferreira',\n",
       "  'shortName': 'Ferreira',\n",
       "  'squadMarketValue': None},\n",
       " {'_links': {'fixtures': {'href': 'http://api.football-data.org/v1/teams/498/fixtures'},\n",
       "   'players': {'href': 'http://api.football-data.org/v1/teams/498/players'},\n",
       "   'self': {'href': 'http://api.football-data.org/v1/teams/498'}},\n",
       "  'code': 'SCP',\n",
       "  'crestUrl': 'https://upload.wikimedia.org/wikipedia/en/3/3e/Sporting_Clube_de_Portugal.png',\n",
       "  'name': 'Sporting CP',\n",
       "  'shortName': 'Sporting',\n",
       "  'squadMarketValue': None},\n",
       " {'_links': {'fixtures': {'href': 'http://api.football-data.org/v1/teams/504/fixtures'},\n",
       "   'players': {'href': 'http://api.football-data.org/v1/teams/504/players'},\n",
       "   'self': {'href': 'http://api.football-data.org/v1/teams/504'}},\n",
       "  'code': None,\n",
       "  'crestUrl': 'http://upload.wikimedia.org/wikipedia/de/3/3b/Marítimo_Funchal.svg',\n",
       "  'name': 'Maritimo Funchal',\n",
       "  'shortName': 'M Funchal',\n",
       "  'squadMarketValue': None},\n",
       " {'_links': {'fixtures': {'href': 'http://api.football-data.org/v1/teams/1049/fixtures'},\n",
       "   'players': {'href': 'http://api.football-data.org/v1/teams/1049/players'},\n",
       "   'self': {'href': 'http://api.football-data.org/v1/teams/1049'}},\n",
       "  'code': None,\n",
       "  'crestUrl': 'https://upload.wikimedia.org/wikipedia/commons/f/fc/Emblema_CD_Tondela.png',\n",
       "  'name': 'CD Tondela',\n",
       "  'shortName': 'Tondela',\n",
       "  'squadMarketValue': None},\n",
       " {'_links': {'fixtures': {'href': 'http://api.football-data.org/v1/teams/495/fixtures'},\n",
       "   'players': {'href': 'http://api.football-data.org/v1/teams/495/players'},\n",
       "   'self': {'href': 'http://api.football-data.org/v1/teams/495'}},\n",
       "  'code': 'SLB',\n",
       "  'crestUrl': 'http://upload.wikimedia.org/wikipedia/de/8/89/Logo_Benfica_Lissabon.svg',\n",
       "  'name': 'SL Benfica',\n",
       "  'shortName': 'Lisbon',\n",
       "  'squadMarketValue': None},\n",
       " {'_links': {'fixtures': {'href': 'http://api.football-data.org/v1/teams/810/fixtures'},\n",
       "   'players': {'href': 'http://api.football-data.org/v1/teams/810/players'},\n",
       "   'self': {'href': 'http://api.football-data.org/v1/teams/810'}},\n",
       "  'code': None,\n",
       "  'crestUrl': 'http://upload.wikimedia.org/wikipedia/en/4/40/Boavista_F.C._logo.svg',\n",
       "  'name': 'Boavista Porto FC',\n",
       "  'shortName': 'Boavista',\n",
       "  'squadMarketValue': None},\n",
       " {'_links': {'fixtures': {'href': 'http://api.football-data.org/v1/teams/712/fixtures'},\n",
       "   'players': {'href': 'http://api.football-data.org/v1/teams/712/players'},\n",
       "   'self': {'href': 'http://api.football-data.org/v1/teams/712'}},\n",
       "  'code': None,\n",
       "  'crestUrl': 'http://upload.wikimedia.org/wikipedia/de/b/b4/FC_Arouca.png',\n",
       "  'name': 'FC Arouca',\n",
       "  'shortName': 'Arouca',\n",
       "  'squadMarketValue': None},\n",
       " {'_links': {'fixtures': {'href': 'http://api.football-data.org/v1/teams/506/fixtures'},\n",
       "   'players': {'href': 'http://api.football-data.org/v1/teams/506/players'},\n",
       "   'self': {'href': 'http://api.football-data.org/v1/teams/506'}},\n",
       "  'code': None,\n",
       "  'crestUrl': 'http://upload.wikimedia.org/wikipedia/de/b/bd/Vitória_Setúbal.svg',\n",
       "  'name': 'Vitoria Setubal',\n",
       "  'shortName': 'Setubal',\n",
       "  'squadMarketValue': None},\n",
       " {'_links': {'fixtures': {'href': 'http://api.football-data.org/v1/teams/711/fixtures'},\n",
       "   'players': {'href': 'http://api.football-data.org/v1/teams/711/players'},\n",
       "   'self': {'href': 'http://api.football-data.org/v1/teams/711'}},\n",
       "  'code': None,\n",
       "  'crestUrl': 'http://upload.wikimedia.org/wikipedia/de/d/db/Belenenses_Lissabon.svg',\n",
       "  'name': 'C.F. Os Belenenses',\n",
       "  'shortName': 'B. Lisbon',\n",
       "  'squadMarketValue': None},\n",
       " {'_links': {'fixtures': {'href': 'http://api.football-data.org/v1/teams/502/fixtures'},\n",
       "   'players': {'href': 'http://api.football-data.org/v1/teams/502/players'},\n",
       "   'self': {'href': 'http://api.football-data.org/v1/teams/502'}},\n",
       "  'code': None,\n",
       "  'crestUrl': 'http://upload.wikimedia.org/wikipedia/de/8/81/Vitoria_Guimaraes.svg',\n",
       "  'name': 'Vitoria Guimaraes',\n",
       "  'shortName': 'Guimares',\n",
       "  'squadMarketValue': None},\n",
       " {'_links': {'fixtures': {'href': 'http://api.football-data.org/v1/teams/497/fixtures'},\n",
       "   'players': {'href': 'http://api.football-data.org/v1/teams/497/players'},\n",
       "   'self': {'href': 'http://api.football-data.org/v1/teams/497'}},\n",
       "  'code': None,\n",
       "  'crestUrl': 'http://upload.wikimedia.org/wikipedia/de/f/f3/Sporting_Clube_de_Braga.svg',\n",
       "  'name': 'Sporting Braga',\n",
       "  'shortName': 'Braga',\n",
       "  'squadMarketValue': None},\n",
       " {'_links': {'fixtures': {'href': 'http://api.football-data.org/v1/teams/582/fixtures'},\n",
       "   'players': {'href': 'http://api.football-data.org/v1/teams/582/players'},\n",
       "   'self': {'href': 'http://api.football-data.org/v1/teams/582'}},\n",
       "  'code': None,\n",
       "  'crestUrl': 'http://upload.wikimedia.org/wikipedia/de/1/14/GD_Estoril_Praia.svg',\n",
       "  'name': 'GD Estoril Praia',\n",
       "  'shortName': 'Estoril',\n",
       "  'squadMarketValue': None},\n",
       " {'_links': {'fixtures': {'href': 'http://api.football-data.org/v1/teams/500/fixtures'},\n",
       "   'players': {'href': 'http://api.football-data.org/v1/teams/500/players'},\n",
       "   'self': {'href': 'http://api.football-data.org/v1/teams/500'}},\n",
       "  'code': None,\n",
       "  'crestUrl': None,\n",
       "  'name': 'Feirense',\n",
       "  'shortName': None,\n",
       "  'squadMarketValue': None},\n",
       " {'_links': {'fixtures': {'href': 'http://api.football-data.org/v1/teams/501/fixtures'},\n",
       "   'players': {'href': 'http://api.football-data.org/v1/teams/501/players'},\n",
       "   'self': {'href': 'http://api.football-data.org/v1/teams/501'}},\n",
       "  'code': None,\n",
       "  'crestUrl': 'http://upload.wikimedia.org/wikipedia/de/e/ee/Nacional_Funchal.svg',\n",
       "  'name': 'Nacional Funchal',\n",
       "  'shortName': 'Funchal',\n",
       "  'squadMarketValue': None},\n",
       " {'_links': {'fixtures': {'href': 'http://api.football-data.org/v1/teams/1103/fixtures'},\n",
       "   'players': {'href': 'http://api.football-data.org/v1/teams/1103/players'},\n",
       "   'self': {'href': 'http://api.football-data.org/v1/teams/1103'}},\n",
       "  'code': None,\n",
       "  'crestUrl': 'https://upload.wikimedia.org/wikipedia/en/0/05/G_D_Chaves.png',\n",
       "  'name': 'G.D. Chaves',\n",
       "  'shortName': 'Chaves',\n",
       "  'squadMarketValue': None}]"
      ]
     },
     "execution_count": 116,
     "metadata": {},
     "output_type": "execute_result"
    }
   ],
   "source": [
    "teams = call_api('http://api.football-data.org/v1/soccerseasons/439/teams', 'teams')\n",
    "teams"
   ]
  },
  {
   "cell_type": "code",
   "execution_count": 118,
   "metadata": {},
   "outputs": [
    {
     "name": "stdout",
     "output_type": "stream",
     "text": [
      "Team \"FC Rio Ave\", 12 loss, 1665364 squadMarketValue\n",
      "Team \"FC Porto\", 5 loss, 7532226 squadMarketValue\n",
      "Team \"Moreirense FC\", 15 loss, 1712133 squadMarketValue\n",
      "Team \"FC Paços de Ferreira\", 14 loss, 8033784 squadMarketValue\n",
      "Team \"Sporting CP\", 6 loss, 3827695 squadMarketValue\n",
      "Team \"Maritimo Funchal\", 10 loss, 7661273 squadMarketValue\n",
      "Team \"CD Tondela\", 14 loss, 5045479 squadMarketValue\n",
      "Team \"SL Benfica\", 7 loss, 3003484 squadMarketValue\n",
      "Team \"Boavista Porto FC\", 13 loss, 2933732 squadMarketValue\n",
      "Team \"FC Arouca\", 0 loss, 7657271 squadMarketValue\n",
      "Team \"Vitoria Setubal\", 13 loss, 3656105 squadMarketValue\n",
      "Team \"C.F. Os Belenenses\", 12 loss, 5794684 squadMarketValue\n",
      "Team \"Vitoria Guimaraes\", 15 loss, 2438405 squadMarketValue\n",
      "Team \"Sporting Braga\", 6 loss, 4533576 squadMarketValue\n",
      "Team \"GD Estoril Praia\", 18 loss, 6529757 squadMarketValue\n",
      "Team \"Feirense\", 19 loss, 9161725 squadMarketValue\n",
      "Team \"Nacional Funchal\", 0 loss, 4116756 squadMarketValue\n",
      "Team \"G.D. Chaves\", 12 loss, 6153422 squadMarketValue\n"
     ]
    }
   ],
   "source": [
    "for team in teams:\n",
    "    fixtures = call_api(team['_links']['fixtures']['href'], 'fixtures')\n",
    "    loss = 0\n",
    "    error = 0\n",
    "    for f in fixtures:\n",
    "        try:            \n",
    "            if team['name'] == f['homeTeamName']:\n",
    "                if int(f['result']['goalsHomeTeam']) < int(f['result']['goalsAwayTeam']):\n",
    "                    loss += 1\n",
    "            if team['name'] == f['awayTeamName']:\n",
    "                if int(f['result']['goalsHomeTeam']) > int(f['result']['goalsAwayTeam']):\n",
    "                    loss += 1\n",
    "        except:\n",
    "            error += 1\n",
    "    if not team['squadMarketValue']:\n",
    "        team['squadMarketValue'] = random.randint(1000000, 10000000)\n",
    "    print('Team \"{}\", {} loss, {} squadMarketValue'.format(team['name'], loss, team['squadMarketValue']))\n",
    "    team['loss'] = loss"
   ]
  },
  {
   "cell_type": "code",
   "execution_count": 119,
   "metadata": {},
   "outputs": [
    {
     "data": {
      "text/plain": [
       "[{'loss': 12, 'name': 'FC Rio Ave', 'squadMarketValue': 1665364},\n",
       " {'loss': 5, 'name': 'FC Porto', 'squadMarketValue': 7532226},\n",
       " {'loss': 15, 'name': 'Moreirense FC', 'squadMarketValue': 1712133},\n",
       " {'loss': 14, 'name': 'FC Paços de Ferreira', 'squadMarketValue': 8033784},\n",
       " {'loss': 6, 'name': 'Sporting CP', 'squadMarketValue': 3827695},\n",
       " {'loss': 10, 'name': 'Maritimo Funchal', 'squadMarketValue': 7661273},\n",
       " {'loss': 14, 'name': 'CD Tondela', 'squadMarketValue': 5045479},\n",
       " {'loss': 7, 'name': 'SL Benfica', 'squadMarketValue': 3003484},\n",
       " {'loss': 13, 'name': 'Boavista Porto FC', 'squadMarketValue': 2933732},\n",
       " {'loss': 0, 'name': 'FC Arouca', 'squadMarketValue': 7657271},\n",
       " {'loss': 13, 'name': 'Vitoria Setubal', 'squadMarketValue': 3656105},\n",
       " {'loss': 12, 'name': 'C.F. Os Belenenses', 'squadMarketValue': 5794684},\n",
       " {'loss': 15, 'name': 'Vitoria Guimaraes', 'squadMarketValue': 2438405},\n",
       " {'loss': 6, 'name': 'Sporting Braga', 'squadMarketValue': 4533576},\n",
       " {'loss': 18, 'name': 'GD Estoril Praia', 'squadMarketValue': 6529757},\n",
       " {'loss': 19, 'name': 'Feirense', 'squadMarketValue': 9161725},\n",
       " {'loss': 0, 'name': 'Nacional Funchal', 'squadMarketValue': 4116756},\n",
       " {'loss': 12, 'name': 'G.D. Chaves', 'squadMarketValue': 6153422}]"
      ]
     },
     "execution_count": 119,
     "metadata": {},
     "output_type": "execute_result"
    }
   ],
   "source": [
    "team_for_pd = []\n",
    "for team in teams:\n",
    "    if team['name']:\n",
    "        team_for_pd.append({'name': team['name'], 'loss': (team['loss']), 'squadMarketValue': team['squadMarketValue']})\n",
    "team_for_pd"
   ]
  },
  {
   "cell_type": "code",
   "execution_count": 120,
   "metadata": {},
   "outputs": [
    {
     "data": {
      "text/html": [
       "<div>\n",
       "<style scoped>\n",
       "    .dataframe tbody tr th:only-of-type {\n",
       "        vertical-align: middle;\n",
       "    }\n",
       "\n",
       "    .dataframe tbody tr th {\n",
       "        vertical-align: top;\n",
       "    }\n",
       "\n",
       "    .dataframe thead th {\n",
       "        text-align: right;\n",
       "    }\n",
       "</style>\n",
       "<table border=\"1\" class=\"dataframe\">\n",
       "  <thead>\n",
       "    <tr style=\"text-align: right;\">\n",
       "      <th></th>\n",
       "      <th>loss</th>\n",
       "      <th>name</th>\n",
       "      <th>squadMarketValue</th>\n",
       "    </tr>\n",
       "  </thead>\n",
       "  <tbody>\n",
       "    <tr>\n",
       "      <th>0</th>\n",
       "      <td>12</td>\n",
       "      <td>FC Rio Ave</td>\n",
       "      <td>1665364</td>\n",
       "    </tr>\n",
       "    <tr>\n",
       "      <th>1</th>\n",
       "      <td>5</td>\n",
       "      <td>FC Porto</td>\n",
       "      <td>7532226</td>\n",
       "    </tr>\n",
       "    <tr>\n",
       "      <th>2</th>\n",
       "      <td>15</td>\n",
       "      <td>Moreirense FC</td>\n",
       "      <td>1712133</td>\n",
       "    </tr>\n",
       "    <tr>\n",
       "      <th>3</th>\n",
       "      <td>14</td>\n",
       "      <td>FC Paços de Ferreira</td>\n",
       "      <td>8033784</td>\n",
       "    </tr>\n",
       "    <tr>\n",
       "      <th>4</th>\n",
       "      <td>6</td>\n",
       "      <td>Sporting CP</td>\n",
       "      <td>3827695</td>\n",
       "    </tr>\n",
       "    <tr>\n",
       "      <th>5</th>\n",
       "      <td>10</td>\n",
       "      <td>Maritimo Funchal</td>\n",
       "      <td>7661273</td>\n",
       "    </tr>\n",
       "    <tr>\n",
       "      <th>6</th>\n",
       "      <td>14</td>\n",
       "      <td>CD Tondela</td>\n",
       "      <td>5045479</td>\n",
       "    </tr>\n",
       "    <tr>\n",
       "      <th>7</th>\n",
       "      <td>7</td>\n",
       "      <td>SL Benfica</td>\n",
       "      <td>3003484</td>\n",
       "    </tr>\n",
       "    <tr>\n",
       "      <th>8</th>\n",
       "      <td>13</td>\n",
       "      <td>Boavista Porto FC</td>\n",
       "      <td>2933732</td>\n",
       "    </tr>\n",
       "    <tr>\n",
       "      <th>9</th>\n",
       "      <td>0</td>\n",
       "      <td>FC Arouca</td>\n",
       "      <td>7657271</td>\n",
       "    </tr>\n",
       "    <tr>\n",
       "      <th>10</th>\n",
       "      <td>13</td>\n",
       "      <td>Vitoria Setubal</td>\n",
       "      <td>3656105</td>\n",
       "    </tr>\n",
       "    <tr>\n",
       "      <th>11</th>\n",
       "      <td>12</td>\n",
       "      <td>C.F. Os Belenenses</td>\n",
       "      <td>5794684</td>\n",
       "    </tr>\n",
       "    <tr>\n",
       "      <th>12</th>\n",
       "      <td>15</td>\n",
       "      <td>Vitoria Guimaraes</td>\n",
       "      <td>2438405</td>\n",
       "    </tr>\n",
       "    <tr>\n",
       "      <th>13</th>\n",
       "      <td>6</td>\n",
       "      <td>Sporting Braga</td>\n",
       "      <td>4533576</td>\n",
       "    </tr>\n",
       "    <tr>\n",
       "      <th>14</th>\n",
       "      <td>18</td>\n",
       "      <td>GD Estoril Praia</td>\n",
       "      <td>6529757</td>\n",
       "    </tr>\n",
       "    <tr>\n",
       "      <th>15</th>\n",
       "      <td>19</td>\n",
       "      <td>Feirense</td>\n",
       "      <td>9161725</td>\n",
       "    </tr>\n",
       "    <tr>\n",
       "      <th>16</th>\n",
       "      <td>0</td>\n",
       "      <td>Nacional Funchal</td>\n",
       "      <td>4116756</td>\n",
       "    </tr>\n",
       "    <tr>\n",
       "      <th>17</th>\n",
       "      <td>12</td>\n",
       "      <td>G.D. Chaves</td>\n",
       "      <td>6153422</td>\n",
       "    </tr>\n",
       "  </tbody>\n",
       "</table>\n",
       "</div>"
      ],
      "text/plain": [
       "    loss                  name  squadMarketValue\n",
       "0     12            FC Rio Ave           1665364\n",
       "1      5              FC Porto           7532226\n",
       "2     15         Moreirense FC           1712133\n",
       "3     14  FC Paços de Ferreira           8033784\n",
       "4      6           Sporting CP           3827695\n",
       "5     10      Maritimo Funchal           7661273\n",
       "6     14            CD Tondela           5045479\n",
       "7      7            SL Benfica           3003484\n",
       "8     13     Boavista Porto FC           2933732\n",
       "9      0             FC Arouca           7657271\n",
       "10    13       Vitoria Setubal           3656105\n",
       "11    12    C.F. Os Belenenses           5794684\n",
       "12    15     Vitoria Guimaraes           2438405\n",
       "13     6        Sporting Braga           4533576\n",
       "14    18      GD Estoril Praia           6529757\n",
       "15    19              Feirense           9161725\n",
       "16     0      Nacional Funchal           4116756\n",
       "17    12           G.D. Chaves           6153422"
      ]
     },
     "execution_count": 120,
     "metadata": {},
     "output_type": "execute_result"
    }
   ],
   "source": [
    "teams_pd = pd.DataFrame(team_for_pd)\n",
    "teams_pd"
   ]
  },
  {
   "cell_type": "code",
   "execution_count": 122,
   "metadata": {},
   "outputs": [
    {
     "data": {
      "text/plain": [
       "<matplotlib.axes._subplots.AxesSubplot at 0xb974a58>"
      ]
     },
     "execution_count": 122,
     "metadata": {},
     "output_type": "execute_result"
    },
    {
     "data": {
      "image/png": "[encoded data removed]",
      "text/plain": [
       "<matplotlib.figure.Figure at 0xb2d77f0>"
      ]
     },
     "metadata": {},
     "output_type": "display_data"
    }
   ],
   "source": [
    "teams_pd.plot.scatter(x='loss', y='squadMarketValue', s=50)"
   ]
  },
  {
   "cell_type": "code",
   "execution_count": 123,
   "metadata": {},
   "outputs": [
    {
     "data": {
      "text/html": [
       "<div>\n",
       "<style scoped>\n",
       "    .dataframe tbody tr th:only-of-type {\n",
       "        vertical-align: middle;\n",
       "    }\n",
       "\n",
       "    .dataframe tbody tr th {\n",
       "        vertical-align: top;\n",
       "    }\n",
       "\n",
       "    .dataframe thead th {\n",
       "        text-align: right;\n",
       "    }\n",
       "</style>\n",
       "<table border=\"1\" class=\"dataframe\">\n",
       "  <thead>\n",
       "    <tr style=\"text-align: right;\">\n",
       "      <th></th>\n",
       "      <th>loss</th>\n",
       "      <th>squadMarketValue</th>\n",
       "    </tr>\n",
       "  </thead>\n",
       "  <tbody>\n",
       "    <tr>\n",
       "      <th>0</th>\n",
       "      <td>12</td>\n",
       "      <td>1665364</td>\n",
       "    </tr>\n",
       "    <tr>\n",
       "      <th>1</th>\n",
       "      <td>5</td>\n",
       "      <td>7532226</td>\n",
       "    </tr>\n",
       "    <tr>\n",
       "      <th>2</th>\n",
       "      <td>15</td>\n",
       "      <td>1712133</td>\n",
       "    </tr>\n",
       "    <tr>\n",
       "      <th>3</th>\n",
       "      <td>14</td>\n",
       "      <td>8033784</td>\n",
       "    </tr>\n",
       "    <tr>\n",
       "      <th>4</th>\n",
       "      <td>6</td>\n",
       "      <td>3827695</td>\n",
       "    </tr>\n",
       "    <tr>\n",
       "      <th>5</th>\n",
       "      <td>10</td>\n",
       "      <td>7661273</td>\n",
       "    </tr>\n",
       "    <tr>\n",
       "      <th>6</th>\n",
       "      <td>14</td>\n",
       "      <td>5045479</td>\n",
       "    </tr>\n",
       "    <tr>\n",
       "      <th>7</th>\n",
       "      <td>7</td>\n",
       "      <td>3003484</td>\n",
       "    </tr>\n",
       "    <tr>\n",
       "      <th>8</th>\n",
       "      <td>13</td>\n",
       "      <td>2933732</td>\n",
       "    </tr>\n",
       "    <tr>\n",
       "      <th>9</th>\n",
       "      <td>0</td>\n",
       "      <td>7657271</td>\n",
       "    </tr>\n",
       "    <tr>\n",
       "      <th>10</th>\n",
       "      <td>13</td>\n",
       "      <td>3656105</td>\n",
       "    </tr>\n",
       "    <tr>\n",
       "      <th>11</th>\n",
       "      <td>12</td>\n",
       "      <td>5794684</td>\n",
       "    </tr>\n",
       "    <tr>\n",
       "      <th>12</th>\n",
       "      <td>15</td>\n",
       "      <td>2438405</td>\n",
       "    </tr>\n",
       "    <tr>\n",
       "      <th>13</th>\n",
       "      <td>6</td>\n",
       "      <td>4533576</td>\n",
       "    </tr>\n",
       "    <tr>\n",
       "      <th>14</th>\n",
       "      <td>18</td>\n",
       "      <td>6529757</td>\n",
       "    </tr>\n",
       "    <tr>\n",
       "      <th>15</th>\n",
       "      <td>19</td>\n",
       "      <td>9161725</td>\n",
       "    </tr>\n",
       "    <tr>\n",
       "      <th>16</th>\n",
       "      <td>0</td>\n",
       "      <td>4116756</td>\n",
       "    </tr>\n",
       "    <tr>\n",
       "      <th>17</th>\n",
       "      <td>12</td>\n",
       "      <td>6153422</td>\n",
       "    </tr>\n",
       "  </tbody>\n",
       "</table>\n",
       "</div>"
      ],
      "text/plain": [
       "    loss  squadMarketValue\n",
       "0     12           1665364\n",
       "1      5           7532226\n",
       "2     15           1712133\n",
       "3     14           8033784\n",
       "4      6           3827695\n",
       "5     10           7661273\n",
       "6     14           5045479\n",
       "7      7           3003484\n",
       "8     13           2933732\n",
       "9      0           7657271\n",
       "10    13           3656105\n",
       "11    12           5794684\n",
       "12    15           2438405\n",
       "13     6           4533576\n",
       "14    18           6529757\n",
       "15    19           9161725\n",
       "16     0           4116756\n",
       "17    12           6153422"
      ]
     },
     "execution_count": 123,
     "metadata": {},
     "output_type": "execute_result"
    }
   ],
   "source": [
    "del teams_pd['name']\n",
    "teams_pd"
   ]
  },
  {
   "cell_type": "code",
   "execution_count": 124,
   "metadata": {},
   "outputs": [
    {
     "data": {
      "text/plain": [
       "array([[2.24065908, 0.73587072],\n",
       "       [0.93360795, 3.32824812],\n",
       "       [2.80082385, 0.75653644],\n",
       "       [2.61410226, 3.54987045],\n",
       "       [1.12032954, 1.69133516],\n",
       "       [1.8672159 , 3.38526983],\n",
       "       [2.61410226, 2.2294347 ],\n",
       "       [1.30705113, 1.32714286],\n",
       "       [2.42738067, 1.2963217 ],\n",
       "       [0.        , 3.38350148],\n",
       "       [2.42738067, 1.61551507],\n",
       "       [2.24065908, 2.56048426],\n",
       "       [2.80082385, 1.07745265],\n",
       "       [1.12032954, 2.00324124],\n",
       "       [3.36098862, 2.88528935],\n",
       "       [3.54771021, 4.04827125],\n",
       "       [0.        , 1.81906191],\n",
       "       [2.24065908, 2.71899903]])"
      ]
     },
     "execution_count": 124,
     "metadata": {},
     "output_type": "execute_result"
    }
   ],
   "source": [
    "whitened = whiten(teams_pd.as_matrix())\n",
    "whitened"
   ]
  },
  {
   "cell_type": "code",
   "execution_count": 125,
   "metadata": {},
   "outputs": [
    {
     "data": {
      "text/plain": [
       "(array([[0.74688636, 2.25875513],\n",
       "        [2.53941362, 1.09633931],\n",
       "        [2.64077677, 3.05394555]]),\n",
       " array([1, 0, 1, 2, 0, 2, 2, 0, 1, 0, 1, 2, 1, 0, 2, 2, 0, 2]))"
      ]
     },
     "execution_count": 125,
     "metadata": {},
     "output_type": "execute_result"
    }
   ],
   "source": [
    "centroids, cluster_map = kmeans2(whitened, 3)\n",
    "centroids, cluster_map"
   ]
  },
  {
   "cell_type": "code",
   "execution_count": 126,
   "metadata": {},
   "outputs": [
    {
     "data": {
      "text/plain": [
       "['g',\n",
       " 'r',\n",
       " 'g',\n",
       " 'b',\n",
       " 'r',\n",
       " 'b',\n",
       " 'b',\n",
       " 'r',\n",
       " 'g',\n",
       " 'r',\n",
       " 'g',\n",
       " 'b',\n",
       " 'g',\n",
       " 'r',\n",
       " 'b',\n",
       " 'b',\n",
       " 'r',\n",
       " 'b']"
      ]
     },
     "execution_count": 126,
     "metadata": {},
     "output_type": "execute_result"
    }
   ],
   "source": [
    "colors_map = {0: 'r', 1: 'g', 2: 'b', 3: 'y', 4: 'm'}\n",
    "colors = [colors_map[c] for c in cluster_map]\n",
    "colors"
   ]
  },
  {
   "cell_type": "code",
   "execution_count": 127,
   "metadata": {},
   "outputs": [
    {
     "data": {
      "text/plain": [
       "<matplotlib.axes._subplots.AxesSubplot at 0xba23198>"
      ]
     },
     "execution_count": 127,
     "metadata": {},
     "output_type": "execute_result"
    },
    {
     "data": {
      "image/png": "[encoded data removed]",
      "text/plain": [
       "<matplotlib.figure.Figure at 0xb9be0f0>"
      ]
     },
     "metadata": {},
     "output_type": "display_data"
    }
   ],
   "source": [
    "teams_pd.plot.scatter(x='loss', y='squadMarketValue', c=colors, s=100)"
   ]
  },
  {
   "cell_type": "code",
   "execution_count": 128,
   "metadata": {
    "scrolled": true
   },
   "outputs": [
    {
     "data": {
      "text/plain": [
       "(array([[0.31120265, 2.84360383],\n",
       "        [2.64522252, 3.19136403],\n",
       "        [2.4896212 , 1.71375715],\n",
       "        [1.18257007, 1.67390642],\n",
       "        [2.61410226, 0.85661994]]),\n",
       " array([4, 0, 4, 1, 3, 1, 2, 3, 2, 0, 2, 1, 4, 3, 1, 1, 0, 1]))"
      ]
     },
     "execution_count": 128,
     "metadata": {},
     "output_type": "execute_result"
    }
   ],
   "source": [
    "centroids, cluster_map = kmeans2(whitened, 5)\n",
    "centroids, cluster_map"
   ]
  },
  {
   "cell_type": "code",
   "execution_count": 129,
   "metadata": {},
   "outputs": [
    {
     "data": {
      "text/plain": [
       "['m',\n",
       " 'r',\n",
       " 'm',\n",
       " 'g',\n",
       " 'y',\n",
       " 'g',\n",
       " 'b',\n",
       " 'y',\n",
       " 'b',\n",
       " 'r',\n",
       " 'b',\n",
       " 'g',\n",
       " 'm',\n",
       " 'y',\n",
       " 'g',\n",
       " 'g',\n",
       " 'r',\n",
       " 'g']"
      ]
     },
     "execution_count": 129,
     "metadata": {},
     "output_type": "execute_result"
    }
   ],
   "source": [
    "colors_map = {0: 'r', 1: 'g', 2: 'b', 3: 'y', 4: 'm'}\n",
    "colors = [colors_map[c] for c in cluster_map]\n",
    "colors"
   ]
  },
  {
   "cell_type": "code",
   "execution_count": 130,
   "metadata": {},
   "outputs": [
    {
     "data": {
      "text/plain": [
       "<matplotlib.axes._subplots.AxesSubplot at 0xba1d550>"
      ]
     },
     "execution_count": 130,
     "metadata": {},
     "output_type": "execute_result"
    },
    {
     "data": {
      "image/png": "[encoded data removed]",
      "text/plain": [
       "<matplotlib.figure.Figure at 0xba351d0>"
      ]
     },
     "metadata": {},
     "output_type": "display_data"
    }
   ],
   "source": [
    "teams_pd.plot.scatter(x='loss', y='squadMarketValue', c=colors, s=100)"
   ]
  }
 ],
 "metadata": {
  "kernelspec": {
   "display_name": "Python 3",
   "language": "python",
   "name": "python3"
  },
  "language_info": {
   "codemirror_mode": {
    "name": "ipython",
    "version": 3
   },
   "file_extension": ".py",
   "mimetype": "text/x-python",
   "name": "python",
   "nbconvert_exporter": "python",
   "pygments_lexer": "ipython3",
   "version": "3.6.4"
  }
 },
 "nbformat": 4,
 "nbformat_minor": 2
}
