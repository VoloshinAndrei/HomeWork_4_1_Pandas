{
 "cells": [
  {
   "cell_type": "code",
   "execution_count": 2,
   "metadata": {},
   "outputs": [],
   "source": [
    "import pandas as pd\n",
    "import numpy as np\n",
    "import matplotlib.pyplot as plt"
   ]
  },
  {
   "cell_type": "code",
   "execution_count": 140,
   "metadata": {},
   "outputs": [],
   "source": [
    "FILE_PATH = 'D:\\Python\\\\names\\\\'"
   ]
  },
  {
   "cell_type": "code",
   "execution_count": null,
   "metadata": {},
   "outputs": [],
   "source": [
    "# Задача №1\n",
    "# С использованием Pandas написать функцию, которая загружает указанные года и выводит ТОП-3 популярных имен. "
   ]
  },
  {
   "cell_type": "code",
   "execution_count": 141,
   "metadata": {},
   "outputs": [],
   "source": [
    "def count_top3(years):\n",
    "    for i, year in enumerate(years):\n",
    "        FILE_NAME = FILE_PATH + 'yob'+str(year)+'.txt'              \n",
    "        \n",
    "        if i == 0:\n",
    "            names = pd.read_csv(FILE_NAME, names=['Name', 'Gender', 'Count'])\n",
    "        else:\n",
    "            names_next = pd.read_csv(FILE_NAME, names=['Name', 'Gender', 'Count'])\n",
    "            names = pd.concat([names, names_next]).groupby('Name').sum().reset_index()\n",
    "   \n",
    "    name_top3 = names.sort_values(by='Count', ascending=False).head(3)\n",
    "    a = []\n",
    "    for i in range(0, len(name_top3)):\n",
    "        a.append(name_top3.iloc[i]['Name'])\n",
    "    return a"
   ]
  },
  {
   "cell_type": "code",
   "execution_count": 142,
   "metadata": {},
   "outputs": [
    {
     "data": {
      "text/plain": [
       "True"
      ]
     },
     "execution_count": 142,
     "metadata": {},
     "output_type": "execute_result"
    }
   ],
   "source": [
    "count_top3([1880]) == ['John', 'William', 'Mary']\n"
   ]
  },
  {
   "cell_type": "code",
   "execution_count": 143,
   "metadata": {},
   "outputs": [
    {
     "data": {
      "text/plain": [
       "True"
      ]
     },
     "execution_count": 143,
     "metadata": {},
     "output_type": "execute_result"
    }
   ],
   "source": [
    "count_top3([1900, 1950, 2000]) == ['James', 'John', 'Robert']"
   ]
  },
  {
   "cell_type": "code",
   "execution_count": null,
   "metadata": {},
   "outputs": [],
   "source": [
    "# Задача №2\n",
    "# С использованием Pandas написать функцию, которая возвращает динамику \n",
    "# изменения количества имен за указанные года в разрезе полов. "
   ]
  },
  {
   "cell_type": "code",
   "execution_count": 145,
   "metadata": {},
   "outputs": [],
   "source": [
    "def count_dynamics(years):\n",
    "    female = []\n",
    "    man = []\n",
    "    \n",
    "    for i, year in enumerate(years):\n",
    "        FILE_NAME = FILE_PATH + 'yob'+str(year)+'.txt'              \n",
    "        names = pd.read_csv(FILE_NAME, names=['Name', 'Gender', 'Count'])\n",
    "        female.append(names[names.Gender == 'F'].Count.sum())\n",
    "        man.append(names[names.Gender == 'M'].Count.sum())\n",
    "                \n",
    "    return {\n",
    "            'F': female,\n",
    "            'M': man\n",
    "           }"
   ]
  },
  {
   "cell_type": "code",
   "execution_count": 146,
   "metadata": {},
   "outputs": [
    {
     "data": {
      "text/plain": [
       "True"
      ]
     },
     "execution_count": 146,
     "metadata": {},
     "output_type": "execute_result"
    }
   ],
   "source": [
    "count_dynamics([1900, 1950, 2000]) == {\n",
    "          'F': [299810, 1713259, 1814922],\n",
    "          'M': [150486, 1790871, 1962744]\n",
    "        }"
   ]
  }
 ],
 "metadata": {
  "kernelspec": {
   "display_name": "Python 3",
   "language": "python",
   "name": "python3"
  },
  "language_info": {
   "codemirror_mode": {
    "name": "ipython",
    "version": 3
   },
   "file_extension": ".py",
   "mimetype": "text/x-python",
   "name": "python",
   "nbconvert_exporter": "python",
   "pygments_lexer": "ipython3",
   "version": "3.6.4"
  }
 },
 "nbformat": 4,
 "nbformat_minor": 2
}
